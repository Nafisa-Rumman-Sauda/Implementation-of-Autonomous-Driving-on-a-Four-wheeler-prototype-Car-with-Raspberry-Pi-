{
 "cells": [
  {
   "cell_type": "markdown",
   "metadata": {},
   "source": [
    "<center><img src=\"../logo.png\" alt=\"Header\" style=\"width: 800px;\"/></center>"
   ]
  },
  {
   "cell_type": "markdown",
   "metadata": {},
   "source": [
    "\n",
    "@Copyright (C): 2010-2020, Shenzhen Yahboom Tech  \n",
    "@Author: Liusen  \n",
    "@Date: 2020-02-04 17:20:02  \n",
    "@LastEditors: Liusen  \n",
    "@LastEditTime: 2020-09-30 18:50:02   "
   ]
  },
  {
   "cell_type": "code",
   "execution_count": 1,
   "metadata": {},
   "outputs": [],
   "source": [
    "import YB_Pcb_Car    #导入Yahboom专门库文件\n",
    "car = YB_Pcb_Car.YB_Pcb_Car()"
   ]
  },
  {
   "cell_type": "code",
   "execution_count": 2,
   "metadata": {},
   "outputs": [],
   "source": [
    "#bgr8转jpeg格式\n",
    "import enum\n",
    "import cv2\n",
    "\n",
    "def bgr8_to_jpeg(value, quality=75):\n",
    "    return bytes(cv2.imencode('.jpg', value)[1])"
   ]
  },
  {
   "cell_type": "code",
   "execution_count": 3,
   "metadata": {},
   "outputs": [],
   "source": [
    "import numpy as np\n",
    "import math\n",
    "global picture\n",
    "picture = np.ones((240,320,3),dtype =np.uint8)*255"
   ]
  },
  {
   "cell_type": "code",
   "execution_count": 4,
   "metadata": {},
   "outputs": [
    {
     "data": {
      "application/vnd.jupyter.widget-view+json": {
       "model_id": "60047875206847bf864b2ecad5850f07",
       "version_major": 2,
       "version_minor": 0
      },
      "text/plain": [
       "Image(value=b'', format='jpeg', height='240', width='320')"
      ]
     },
     "metadata": {},
     "output_type": "display_data"
    }
   ],
   "source": [
    "#显示摄像头组件\n",
    "import cv2\n",
    "import traitlets\n",
    "import ipywidgets.widgets as widgets\n",
    "from IPython.display import display\n",
    "import time\n",
    "# 线程功能操作库\n",
    "import threading\n",
    "import inspect\n",
    "import ctypes\n",
    "\n",
    "\n",
    "\n",
    "image_widget = widgets.Image(format='jpeg', width=320, height=240)\n",
    "display(image_widget)"
   ]
  },
  {
   "cell_type": "markdown",
   "metadata": {},
   "source": [
    "##  线程关闭函数"
   ]
  },
  {
   "cell_type": "code",
   "execution_count": 5,
   "metadata": {},
   "outputs": [],
   "source": [
    "def _async_raise(tid, exctype):\n",
    "    \"\"\"raises the exception, performs cleanup if needed\"\"\"\n",
    "    tid = ctypes.c_long(tid)\n",
    "    if not inspect.isclass(exctype):\n",
    "        exctype = type(exctype)\n",
    "    res = ctypes.pythonapi.PyThreadState_SetAsyncExc(tid, ctypes.py_object(exctype))\n",
    "    if res == 0:\n",
    "        raise ValueError(\"invalid thread id\")\n",
    "    elif res != 1:\n",
    "        # \"\"\"if it returns a number greater than one, you're in trouble,\n",
    "        # and you should call it again with exc=NULL to revert the effect\"\"\"\n",
    "        ctypes.pythonapi.PyThreadState_SetAsyncExc(tid, None)\n",
    "        \n",
    "def stop_thread(thread):\n",
    "    _async_raise(thread.ident, SystemExit)"
   ]
  },
  {
   "cell_type": "code",
   "execution_count": 6,
   "metadata": {},
   "outputs": [],
   "source": [
    "image = cv2.VideoCapture(0)\n",
    "\n",
    "image.set(3, 320)\n",
    "image.set(4, 240)\n",
    "image.set(5, 30)  #设置帧率\n",
    "image.set(cv2.CAP_PROP_FOURCC, cv2.VideoWriter.fourcc('M', 'J', 'P', 'G'))\n",
    "image.set(cv2.CAP_PROP_BRIGHTNESS, 62) #设置亮度 -64 - 64  0.0\n",
    "image.set(cv2.CAP_PROP_CONTRAST, 63) #设置对比度 -64 - 64  2.0\n",
    "image.set(cv2.CAP_PROP_EXPOSURE, 4800) #设置曝光值 1.0 - 5000  156.0\n",
    "ret, frame = image.read()\n",
    "image_widget.value = bgr8_to_jpeg(picture)"
   ]
  },
  {
   "cell_type": "code",
   "execution_count": 7,
   "metadata": {},
   "outputs": [],
   "source": [
    "global g_mode\n",
    "g_mode = 0\n",
    "global color_x, color_y, color_radius\n",
    "color_x = color_y = color_radius = 0\n",
    "global target_valuex\n",
    "target_valuex = 1500\n",
    "global target_valuey\n",
    "target_valuey = 1500\n",
    "global g_mode\n",
    "g_mode = 0"
   ]
  },
  {
   "cell_type": "markdown",
   "metadata": {},
   "source": [
    "## 创建存储红色HSV色域数据的数组"
   ]
  },
  {
   "cell_type": "code",
   "execution_count": 8,
   "metadata": {},
   "outputs": [],
   "source": [
    "import numpy as np\n",
    "global color_lower\n",
    "#color_lower = np.array([0, 43, 46])\n",
    "global color_upper\n",
    "#color_upper = np.array([10, 255, 255])\n",
    "\n",
    "color_lower = np.array([0,70,72])\n",
    "color_upper = np.array([7, 255, 255])"
   ]
  },
  {
   "cell_type": "code",
   "execution_count": 9,
   "metadata": {},
   "outputs": [],
   "source": [
    "import PID\n",
    "\n",
    "xservo_pid = PID.PositionalPID(1.1, 0.2, 0.8)\n",
    "yservo_pid = PID.PositionalPID(0.8, 0.2, 0.8)\n"
   ]
  },
  {
   "cell_type": "code",
   "execution_count": 10,
   "metadata": {},
   "outputs": [],
   "source": [
    "car.Ctrl_Servo(1,90)\n",
    "car.Ctrl_Servo(2,90)"
   ]
  },
  {
   "cell_type": "markdown",
   "metadata": {},
   "source": [
    "##  颜色识别主函数"
   ]
  },
  {
   "cell_type": "code",
   "execution_count": 11,
   "metadata": {},
   "outputs": [],
   "source": [
    "def Color_Recongnize():\n",
    "    global color_lower, color_upper, g_mode, first_read, while_cnt\n",
    "    global target_valuex, target_valuey, color_x, target_servox,picture\n",
    "    t_start = time.time()\n",
    "    fps = 0\n",
    "    ret, frame = image.read()\n",
    "    #frame = cv2.resize(frame, (300, 300))\n",
    "    frame = cv2.GaussianBlur(frame,(5,5),0) \n",
    "    first_read = 1\n",
    "    while_cnt = 0\n",
    "    time.sleep(1)\n",
    "    while True:\n",
    "        ret, frame = image.read()  \n",
    "        #frame = cv2.resize(frame, (300, 300))\n",
    "        #frame = cv2.GaussianBlur(frame,(3,3),0)  \n",
    "        hsv = cv2.cvtColor(frame,cv2.COLOR_BGR2HSV)\n",
    "        mask = cv2.inRange(hsv,color_lower,color_upper)   \n",
    "        mask = cv2.erode(mask,None,iterations=2)\n",
    "        mask = cv2.dilate(mask,None,iterations=2)\n",
    "        mask = cv2.GaussianBlur(mask,(5,5),0)\n",
    "        cnts = cv2.findContours(mask.copy(),cv2.RETR_EXTERNAL,cv2.CHAIN_APPROX_SIMPLE)[-2] \n",
    "        if len(cnts) > 0:\n",
    "            cnt = max (cnts, key = cv2.contourArea)\n",
    "            (color_x,color_y),color_radius = cv2.minEnclosingCircle(cnt)\n",
    "\n",
    "            if color_radius > 10:\n",
    "                # 将检测到的颜色用原形线圈标记出来\n",
    "                cv2.circle(frame,(int(color_x),int(color_y)),int(color_radius),(255,0,255),2)  \n",
    "                xservo_pid.SystemOutput = color_x\n",
    "                xservo_pid.SetStepSignal(150)\n",
    "                xservo_pid.SetInertiaTime(0.01, 0.1)\n",
    "                target_valuex = int(1500+xservo_pid.SystemOutput)\n",
    "                target_servox = int((target_valuex-500)/10)\n",
    "                #print(\"color_x %f\", color_x)                         \n",
    "                #print(\"target_servox %d\", target_servox)   \n",
    "                # 将云台转动至PID调校位置\n",
    "                if target_servox > 180:\n",
    "                    target_servox = 180\n",
    "                if target_servox < 0:\n",
    "                    target_servox = 0\n",
    "\n",
    "                # 输入Y轴方向参数PID控制输入\n",
    "                yservo_pid.SystemOutput = color_y\n",
    "                yservo_pid.SetStepSignal(150)\n",
    "                yservo_pid.SetInertiaTime(0.01, 0.1)\n",
    "                target_valuey = int(1500-yservo_pid.SystemOutput)\n",
    "                target_servoy = int((target_valuey-500)/10)                        \n",
    "                #print(\"target_servoy %d\", target_servoy)  \n",
    "                if target_servoy > 180:\n",
    "                    target_servoy = 180\n",
    "                if target_servoy < 0:\n",
    "                    target_servoy = 0\n",
    "                #print(target_servoy)\n",
    "  \n",
    "                car.Ctrl_Servo(1,target_servox)\n",
    "                car.Ctrl_Servo(2,target_servoy)\n",
    "\n",
    "\n",
    "        fps = fps + 1\n",
    "        mfps = fps / (time.time() - t_start)\n",
    "        cv2.putText(frame, \"FPS \" + str(int(mfps)), (40,40), cv2.FONT_HERSHEY_SIMPLEX, 0.8, (0,255,255), 3)\n",
    "        #cv2.putText(frame, \"1\" , (160,120), cv2.FONT_HERSHEY_SIMPLEX, 0.8, (0,255,255), 3)\n",
    "        # 实时传回图像数据进行显示\n",
    "        picture = frame\n",
    "\n"
   ]
  },
  {
   "cell_type": "markdown",
   "metadata": {},
   "source": [
    "## 测试死区"
   ]
  },
  {
   "cell_type": "code",
   "execution_count": 12,
   "metadata": {},
   "outputs": [],
   "source": [
    "def test():\n",
    "    global color_lower, color_upper, g_mode, first_read, while_cnt\n",
    "    global target_valuex, target_valuey, color_x, target_servox,picture\n",
    "    t_start = time.time()\n",
    "    fps = 0\n",
    "    ret, frame = image.read()\n",
    "    #frame = cv2.resize(frame, (300, 300))\n",
    "    frame = cv2.GaussianBlur(frame,(5,5),0) \n",
    "    first_read = 1\n",
    "    while_cnt = 0\n",
    "    time.sleep(1)\n",
    "    while True:\n",
    "        ret, frame = image.read()  \n",
    "        #frame = cv2.resize(frame, (300, 300))\n",
    "        #frame = cv2.GaussianBlur(frame,(3,3),0)  \n",
    "        hsv = cv2.cvtColor(frame,cv2.COLOR_BGR2HSV)\n",
    "        mask = cv2.inRange(hsv,color_lower,color_upper)   \n",
    "        mask = cv2.erode(mask,None,iterations=2)\n",
    "        mask = cv2.dilate(mask,None,iterations=2)\n",
    "        mask = cv2.GaussianBlur(mask,(5,5),0)\n",
    "        cnts = cv2.findContours(mask.copy(),cv2.RETR_EXTERNAL,cv2.CHAIN_APPROX_SIMPLE)[-2] \n",
    "        if len(cnts) > 0:\n",
    "            cnt = max (cnts, key = cv2.contourArea)\n",
    "            (color_x,color_y),color_radius = cv2.minEnclosingCircle(cnt)\n",
    "\n",
    "            if color_radius > 10:\n",
    "                # 将检测到的颜色用原形线圈标记出来\n",
    "                cv2.circle(frame,(int(color_x),int(color_y)),int(color_radius),(255,0,255),2)  \n",
    "                if math.fabs(150 - color_x) > 10:\n",
    "                    xservo_pid.SystemOutput = color_x\n",
    "                    xservo_pid.SetStepSignal(150)\n",
    "                    xservo_pid.SetInertiaTime(0.01, 0.1)\n",
    "                    target_valuex = int(1500+xservo_pid.SystemOutput)\n",
    "                    target_servox = int((target_valuex-500)/10)\n",
    "                    #print(\"color_x %f\", color_x)                         \n",
    "                    #print(\"target_servox %d\", target_servox)   \n",
    "                    # 将云台转动至PID调校位置\n",
    "                    if target_servox > 180:\n",
    "                        target_servox = 180\n",
    "                    if target_servox < 0:\n",
    "                        target_servox = 0\n",
    "                    car.Ctrl_Servo(1,target_servox)\n",
    "                    \n",
    "                if math.fabs(150 - color_y) > 10:  \n",
    "                    # 输入Y轴方向参数PID控制输入\n",
    "                    yservo_pid.SystemOutput = color_y\n",
    "                    yservo_pid.SetStepSignal(150)\n",
    "                    yservo_pid.SetInertiaTime(0.01, 0.1)\n",
    "                    target_valuey = int(1500-yservo_pid.SystemOutput)\n",
    "                    target_servoy = int((target_valuey-500)/10)                        \n",
    "                    #print(\"target_servoy %d\", target_servoy)  \n",
    "                    if target_servoy > 180:\n",
    "                        target_servoy = 180\n",
    "                    if target_servoy < 0:\n",
    "                        target_servoy = 0\n",
    "                    #print(target_servoy)\n",
    "\n",
    "                    car.Ctrl_Servo(2,target_servoy)\n",
    "\n",
    "\n",
    "        fps = fps + 1\n",
    "        mfps = fps / (time.time() - t_start)\n",
    "        cv2.putText(frame, \"FPS \" + str(int(mfps)), (40,40), cv2.FONT_HERSHEY_SIMPLEX, 0.8, (0,255,255), 3)\n",
    "        #cv2.putText(frame, \"1\" , (160,120), cv2.FONT_HERSHEY_SIMPLEX, 0.8, (0,255,255), 3)\n",
    "        # 实时传回图像数据进行显示\n",
    "        picture = frame\n"
   ]
  },
  {
   "cell_type": "code",
   "execution_count": 13,
   "metadata": {},
   "outputs": [],
   "source": [
    "def video():\n",
    "    global picture\n",
    "    # 实时传回图像数据进行显示\n",
    "    image_widget.value = bgr8_to_jpeg(picture)"
   ]
  },
  {
   "cell_type": "markdown",
   "metadata": {},
   "source": [
    "##  启动进程"
   ]
  },
  {
   "cell_type": "code",
   "execution_count": 14,
   "metadata": {},
   "outputs": [],
   "source": [
    "#thread1 = threading.Thread(target=Color_Recongnize)\n",
    "thread1 = threading.Thread(target=test)\n",
    "\n",
    "thread1.setDaemon(True)\n",
    "thread1.start()"
   ]
  },
  {
   "cell_type": "code",
   "execution_count": 15,
   "metadata": {},
   "outputs": [
    {
     "name": "stdout",
     "output_type": "stream",
     "text": [
      "ending\n"
     ]
    }
   ],
   "source": [
    "try:\n",
    "    while True:\n",
    "        video()\n",
    "except:\n",
    "    print(\"ending\")"
   ]
  },
  {
   "cell_type": "markdown",
   "metadata": {},
   "source": [
    "##  关闭进程"
   ]
  },
  {
   "cell_type": "code",
   "execution_count": 16,
   "metadata": {},
   "outputs": [],
   "source": [
    "stop_thread(thread1)"
   ]
  },
  {
   "cell_type": "code",
   "execution_count": 17,
   "metadata": {},
   "outputs": [],
   "source": [
    "image.release()              #使用完成对象记住释放掉对象，不然下一个程序使用这个对象模块会被占用，导致无法使用"
   ]
  },
  {
   "cell_type": "code",
   "execution_count": null,
   "metadata": {},
   "outputs": [],
   "source": []
  },
  {
   "cell_type": "markdown",
   "metadata": {},
   "source": []
  },
  {
   "cell_type": "code",
   "execution_count": null,
   "metadata": {},
   "outputs": [],
   "source": []
  },
  {
   "cell_type": "code",
   "execution_count": null,
   "metadata": {},
   "outputs": [],
   "source": []
  }
 ],
 "metadata": {
  "kernelspec": {
   "display_name": "Python 3",
   "language": "python",
   "name": "python3"
  },
  "language_info": {
   "codemirror_mode": {
    "name": "ipython",
    "version": 3
   },
   "file_extension": ".py",
   "mimetype": "text/x-python",
   "name": "python",
   "nbconvert_exporter": "python",
   "pygments_lexer": "ipython3",
   "version": "3.7.3"
  }
 },
 "nbformat": 4,
 "nbformat_minor": 4
}
